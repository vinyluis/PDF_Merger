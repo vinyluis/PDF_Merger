{
 "cells": [
  {
   "cell_type": "code",
   "execution_count": 2,
   "id": "c31ae93b-b970-4c0c-9f1b-6c42468d9fdb",
   "metadata": {
    "execution": {
     "iopub.execute_input": "2022-07-22T21:34:21.979832Z",
     "iopub.status.busy": "2022-07-22T21:34:21.978834Z",
     "iopub.status.idle": "2022-07-22T21:34:22.560712Z",
     "shell.execute_reply": "2022-07-22T21:34:22.560712Z",
     "shell.execute_reply.started": "2022-07-22T21:34:21.979832Z"
    },
    "tags": []
   },
   "outputs": [],
   "source": [
    "from PyPDF2 import PdfMerger"
   ]
  },
  {
   "cell_type": "code",
   "execution_count": 3,
   "id": "653fdd65-12e7-4905-b658-31212d0613ea",
   "metadata": {
    "execution": {
     "iopub.execute_input": "2022-07-22T21:34:39.110032Z",
     "iopub.status.busy": "2022-07-22T21:34:39.109027Z",
     "iopub.status.idle": "2022-07-22T21:34:39.117006Z",
     "shell.execute_reply": "2022-07-22T21:34:39.117006Z",
     "shell.execute_reply.started": "2022-07-22T21:34:39.110032Z"
    }
   },
   "outputs": [],
   "source": [
    "files = ['Página1.pdf', \"Submission.pdf\"]"
   ]
  },
  {
   "cell_type": "code",
   "execution_count": 5,
   "id": "18bf75b6-adbd-4ed0-be72-070690dfbfa7",
   "metadata": {
    "execution": {
     "iopub.execute_input": "2022-07-22T21:35:07.979640Z",
     "iopub.status.busy": "2022-07-22T21:35:07.979640Z",
     "iopub.status.idle": "2022-07-22T21:35:07.994596Z",
     "shell.execute_reply": "2022-07-22T21:35:07.993598Z",
     "shell.execute_reply.started": "2022-07-22T21:35:07.979640Z"
    },
    "tags": []
   },
   "outputs": [],
   "source": [
    "merger = PdfMerger()"
   ]
  },
  {
   "cell_type": "code",
   "execution_count": 6,
   "id": "06032280-28f9-4229-96f4-bf5d9de8039e",
   "metadata": {
    "execution": {
     "iopub.execute_input": "2022-07-22T21:35:07.995593Z",
     "iopub.status.busy": "2022-07-22T21:35:07.995593Z",
     "iopub.status.idle": "2022-07-22T21:35:08.009569Z",
     "shell.execute_reply": "2022-07-22T21:35:08.008586Z",
     "shell.execute_reply.started": "2022-07-22T21:35:07.995593Z"
    }
   },
   "outputs": [],
   "source": [
    "for pdf in files:\n",
    "    merger.append(pdf)"
   ]
  },
  {
   "cell_type": "code",
   "execution_count": 7,
   "id": "aa5d2eaa-fb61-40c7-b8aa-3a43c85e70e2",
   "metadata": {
    "execution": {
     "iopub.execute_input": "2022-07-22T21:35:08.977559Z",
     "iopub.status.busy": "2022-07-22T21:35:08.977559Z",
     "iopub.status.idle": "2022-07-22T21:35:09.023462Z",
     "shell.execute_reply": "2022-07-22T21:35:09.023462Z",
     "shell.execute_reply.started": "2022-07-22T21:35:08.977559Z"
    }
   },
   "outputs": [],
   "source": [
    "merger.write(\"result.pdf\")\n",
    "merger.close()"
   ]
  },
  {
   "cell_type": "code",
   "execution_count": null,
   "id": "a8d13caa-95a1-4774-b24e-aa274a50ae9b",
   "metadata": {},
   "outputs": [],
   "source": []
  }
 ],
 "metadata": {
  "kernelspec": {
   "display_name": "Python 3",
   "language": "python",
   "name": "python3"
  },
  "language_info": {
   "codemirror_mode": {
    "name": "ipython",
    "version": 3
   },
   "file_extension": ".py",
   "mimetype": "text/x-python",
   "name": "python",
   "nbconvert_exporter": "python",
   "pygments_lexer": "ipython3",
   "version": "3.8.8"
  }
 },
 "nbformat": 4,
 "nbformat_minor": 5
}
